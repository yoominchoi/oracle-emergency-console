{
 "cells": [
  {
   "cell_type": "markdown",
   "id": "4de80bf5-d331-4c84-af3b-25aa72305793",
   "metadata": {},
   "source": [
    "# loadShooterDesc Function"
   ]
  },
  {
   "cell_type": "code",
   "execution_count": 25,
   "id": "771b1f71-4b82-4d80-91ec-07001dfc2104",
   "metadata": {},
   "outputs": [],
   "source": [
    "import os\n",
    "\n",
    "def loadShooterDesc(directory_path):\n",
    "   shooter_desc = {}\n",
    "   \n",
    "   for filename in os.listdir(directory_path):\n",
    "      if filename.endswith(\".txt\"):  # assuming shooter_desc are in .txt files\n",
    "         file_path = os.path.join(directory_path, filename)\n",
    "\n",
    "         with open(file_path) as f:\n",
    "            raw_shooter_desc = f.read()\n",
    "\n",
    "         filename_without_ext = os.path.splitext(filename)[0]  # remove .txt extension\n",
    "         shooter_desc[filename_without_ext] = [text.strip() for text in raw_shooter_desc.split('=====')]\n",
    "\n",
    "   return shooter_desc\n"
   ]
  },
  {
   "cell_type": "code",
   "execution_count": 26,
   "id": "770d3797-2cea-4aac-8a12-186bd4840cec",
   "metadata": {},
   "outputs": [
    {
     "data": {
      "text/plain": [
       "{'shooter_desc (4)': [\"These are descriptions of a shooter or shooters.\\nBlue Cap\\nwearing sunglasses\\nIt's a guy.\\nWearing black jacket\\nhas a gun\"]}"
      ]
     },
     "execution_count": 26,
     "metadata": {},
     "output_type": "execute_result"
    }
   ],
   "source": [
    "shooter_desc = loadShooterDesc('.')\n",
    "shooter_desc"
   ]
  },
  {
   "cell_type": "code",
   "execution_count": 27,
   "id": "fa9b1048-8cbd-4cb1-80e2-f1b95e573ba2",
   "metadata": {},
   "outputs": [
    {
     "data": {
      "text/plain": [
       "[{'text': \"shooter_desc (4) | These are descriptions of a shooter or shooters.\\nBlue Cap\\nwearing sunglasses\\nIt's a guy.\\nWearing black jacket\\nhas a gun\",\n",
       "  'path': 'shooter_desc (4)'}]"
      ]
     },
     "execution_count": 27,
     "metadata": {},
     "output_type": "execute_result"
    }
   ],
   "source": [
    "docs = [{'text': filename + ' | ' + section, 'path': filename} for filename, sections in shooter_desc.items() for section in sections]\n",
    "\n",
    "# Sample the resulting data\n",
    "docs[:2]"
   ]
  },
  {
   "cell_type": "code",
   "execution_count": 28,
   "id": "75494f83-c1a6-40b2-80c5-97e089f4ef7c",
   "metadata": {},
   "outputs": [],
   "source": [
    "un = \"user1\"\n",
    "pw = \"yoominchoi1234A\"\n",
    "cs = \"localhost/FREEPDB1\""
   ]
  },
  {
   "cell_type": "code",
   "execution_count": 29,
   "id": "cfd0d9b1-b7e4-4433-a02f-9965240b2848",
   "metadata": {},
   "outputs": [],
   "source": [
    "import oracledb\n",
    "connection = oracledb.connect(user=un, password=pw, dsn=cs)"
   ]
  },
  {
   "cell_type": "code",
   "execution_count": 30,
   "id": "11884707-a5f9-496c-b444-59579eb95eea",
   "metadata": {},
   "outputs": [],
   "source": [
    "table_name = 'shooter_desc'\n",
    "\n",
    "with connection.cursor() as cursor:\n",
    "    # Create the table\n",
    "    create_table_sql = f\"\"\"\n",
    "        CREATE TABLE IF NOT EXISTS {table_name} (\n",
    "            id NUMBER PRIMARY KEY,\n",
    "            payload CLOB CHECK (payload IS JSON),\n",
    "            vector VECTOR\n",
    "        )\"\"\"\n",
    "    try:\n",
    "        cursor.execute(create_table_sql)\n",
    "    except oracledb.DatabaseError as e:\n",
    "        raise\n",
    "\n",
    "    connection.autocommit = True    "
   ]
  },
  {
   "cell_type": "code",
   "execution_count": 31,
   "id": "091a2a63-5f2a-48fc-b8e5-62dd704b3517",
   "metadata": {},
   "outputs": [],
   "source": [
    "from sentence_transformers import SentenceTransformer\n",
    "\n",
    "encoder = SentenceTransformer('all-MiniLM-L12-v2')"
   ]
  },
  {
   "cell_type": "code",
   "execution_count": 32,
   "id": "154e0e7a-5504-4be9-8f53-871ef6429fdb",
   "metadata": {
    "editable": true,
    "slideshow": {
     "slide_type": ""
    },
    "tags": []
   },
   "outputs": [
    {
     "data": {
      "application/vnd.jupyter.widget-view+json": {
       "model_id": "77dc9fd635384b7b88ca9b90feccf5dc",
       "version_major": 2,
       "version_minor": 0
      },
      "text/plain": [
       "Batches:   0%|          | 0/1 [00:00<?, ?it/s]"
      ]
     },
     "metadata": {},
     "output_type": "display_data"
    }
   ],
   "source": [
    "import array\n",
    "\n",
    "# Define a list to store the data\n",
    "data = [\n",
    "    {\"id\": idx, \"vector_source\": row['text'], \"payload\": row}\n",
    "    for idx, row in enumerate(docs)\n",
    "]\n",
    "\n",
    "# Collect all texts for batch encoding\n",
    "texts = [f\"{row['vector_source']}\" for row in data]\n",
    "\n",
    "# Encode all texts in a batch\n",
    "embeddings = encoder.encode(texts, batch_size=32, show_progress_bar=True)\n",
    "\n",
    "# Assign the embeddings back to your data structure\n",
    "for row, embedding in zip(data, embeddings):\n",
    "    row['vector'] = array.array(\"f\", embedding)"
   ]
  },
  {
   "cell_type": "code",
   "execution_count": 33,
   "id": "3ef2bbc2-704a-44e2-a75b-2e0b440c2b0e",
   "metadata": {},
   "outputs": [],
   "source": [
    "import json\n",
    "\n",
    "with connection.cursor() as cursor:\n",
    "    # Truncate the table\n",
    "    cursor.execute(f\"truncate table {table_name}\")\n",
    "    prepared_data = [(row['id'], json.dumps(row['payload']), row['vector']) for row in data]\n",
    "\n",
    "    # Insert the data\n",
    "    cursor.executemany(\n",
    "        f\"\"\"INSERT INTO {table_name} (id, payload, vector)\n",
    "            VALUES (:1, :2, :3)\"\"\", prepared_data)\n",
    "    \n",
    "    connection.commit()"
   ]
  },
  {
   "cell_type": "code",
   "execution_count": 34,
   "id": "ed457a84-78fe-4ade-af0c-0fd073009af0",
   "metadata": {},
   "outputs": [
    {
     "name": "stdout",
     "output_type": "stream",
     "text": [
      "(0, {'text': \"shooter_desc (4) | These are descriptions of a shooter or shooters.\\nBlue Cap\\nwearing sunglasses\\nIt's a guy.\\nWearing black jacket\\nhas a gun\", 'path': 'shooter_desc (4)'}, array('f', [-0.017141368240118027, 0.04507311433553696, -0.05348360911011696, -0.04635532200336456, 0.11879650503396988, 0.029685821384191513, 0.1721850484609604, -0.008428659290075302, -0.09266557544469833, 0.11536173522472382, 0.03890695050358772, -0.0596795491874218, 0.02103598788380623, -0.051024384796619415, 0.03891414403915405, -0.011247022077441216, -0.026512511074543, -0.01963193342089653, 0.04332781955599785, -0.0716574490070343, -0.07306758314371109, -0.06262847781181335, 0.0029959452804178, -0.05905653536319733, -0.05675629898905754, -0.06291121989488602, 0.049255236983299255, -0.011615409515798092, -0.06431914120912552, 0.06185390055179596, 0.09699669480323792, -0.02571626380085945, -0.012552118860185146, -0.042645640671253204, -0.028517138212919235, -0.031332287937402725, 0.010361681692302227, 0.05637604743242264, -0.07599185407161713, -0.04159996658563614, -0.046176664531230927, -0.012086521834135056, 0.03158631548285484, -0.03157791122794151, 0.04000777378678322, 0.0363001748919487, -0.09535608440637589, 0.005995152052491903, -0.0723581463098526, -0.012403246946632862, -0.07243907451629639, -0.04089215397834778, -0.05850476771593094, -0.07964558899402618, -0.007911624386906624, -0.09303326904773712, -0.03614681586623192, 0.008646657690405846, 0.03864768519997597, -0.0569542720913887, -0.027007052674889565, -0.059938814491033554, 0.019238777458667755, 0.0471101775765419, 0.09216123819351196, 0.06441347301006317, -0.04072003439068794, -0.0041089714504778385, 0.05177907273173332, 0.0549372062087059, -0.012556136585772038, 0.03697243332862854, 0.004321285989135504, 0.02990717440843582, -0.07998870313167572, -0.08456067740917206, 0.016240721568465233, -0.03139428794384003, -0.03477662801742554, 0.04640161246061325, -0.05533870309591293, -0.0562114492058754, -0.00974977482110262, 0.020658254623413086, -0.0020341435447335243, -0.04608051851391792, -0.008469835855066776, -0.06553246825933456, -0.059859875589609146, 0.03627639636397362, -0.1274118572473526, 0.1047077476978302, 0.05153694748878479, -0.0643618032336235, 0.015552687458693981, 0.04711705446243286, 0.002862936118617654, 0.07465460151433945, -0.031776539981365204, 0.07352004945278168, -0.019181910902261734, -0.07649659365415573, 0.06538071483373642, -0.024050720036029816, 0.06636665761470795, -0.01520064938813448, 0.012867907993495464, -0.06752528250217438, -0.02271285280585289, -0.03368605673313141, -0.005473005119711161, 0.1065477654337883, 0.014838095754384995, -0.10030002146959305, 0.018155589699745178, -0.10783965140581131, 0.020542791113257408, 0.015000136569142342, -0.03478509932756424, 0.038812533020973206, 0.009821310639381409, 0.08957468718290329, -0.05825597047805786, 0.02794734761118889, 0.012616600841283798, -0.0029755295254290104, 0.03554774075746536, 0.005036700051277876, 0.10126706957817078, 0.061136312782764435, 0.008876726031303406, 0.04929526895284653, 0.038376763463020325, -0.11580778658390045, -0.036036621779203415, -0.044477518647909164, -0.05856996774673462, 0.032212965190410614, 0.039655156433582306, 0.0014092103810980916, -0.04966987669467926, 0.04583154246211052, 0.07014571875333786, 0.04759565368294716, -0.0100482739508152, 0.07138310372829437, -0.07725484669208527, -0.03546895459294319, 0.024895573034882545, 0.022407496348023415, 0.010039005428552628, 0.015119676478207111, 0.07413351535797119, 0.09143013507127762, -0.07096638530492783, 0.021275894716382027, 0.00492002721875906, 0.05994661897420883, -0.00032530579483136535, -0.013446969911456108, 0.045842546969652176, 0.01103658601641655, 0.07954920828342438, -0.08862940222024918, 0.018065281212329865, -0.04433728754520416, 0.02870345115661621, 0.06379242986440659, -0.012856215238571167, 0.04321850836277008, 0.0246021319180727, 0.03479757159948349, -0.04271735996007919, -0.08323828876018524, -0.06766507029533386, 0.011739320121705532, -0.06384342163801193, -0.04695041850209236, -0.0007800071616657078, -0.007385707926005125, 0.01915983110666275, -0.04825450852513313, -0.0005779483471997082, 0.0016655386425554752, 0.03767276927828789, -0.011704693548381329, -0.040787212550640106, 0.056355252861976624, 0.1317724883556366, 0.0015984352212399244, 0.011834954842925072, 0.0001311637315666303, 0.03272145241498947, 0.020093806087970734, 0.033732324838638306, 0.07006022334098816, 0.08739499002695084, 0.024045368656516075, 0.014189235866069794, 0.09229329973459244, 0.08730033040046692, 0.06624568998813629, -0.028035640716552734, 0.08089037239551544, 0.013722633942961693, 0.016728565096855164, 0.0021825856529176235, -0.04662324860692024, -0.041819099336862564, -0.07826176285743713, -0.021366817876696587, 0.03328786417841911, -0.07383821159601212, -0.05875980854034424, 0.0523030050098896, -0.027165263891220093, -0.0021774324122816324, 0.010741254314780235, 0.0015847506001591682, 0.061216097325086594, -0.06547458469867706, 0.0609813928604126, 0.018424056470394135, 7.275347595590224e-33, 0.044492386281490326, 0.01124608051031828, -0.022606175392866135, -0.023186419159173965, -0.02084190957248211, 0.013651162385940552, 0.0006995236617513001, -0.07723454385995865, 0.12059418112039566, -0.04199359565973282, 0.009439883753657341, 0.0807289406657219, 0.0021646409295499325, -0.001699363230727613, 0.020815813913941383, -0.07836153358221054, -0.10360094904899597, -0.026131564751267433, -0.03937757387757301, 0.0690341591835022, 0.03583142161369324, -0.12469624727964401, 0.02812313847243786, -0.025770442560315132, -0.006293769925832748, 0.04825524613261223, 0.10231614857912064, -0.025098714977502823, -0.03586370870471001, 0.013204488903284073, 0.017554208636283875, -0.06223622336983681, -0.03663827106356621, 0.05100861191749573, -0.0282922200858593, -0.026528580114245415, -0.050160009413957596, -0.08433591574430466, 0.09758157283067703, -0.038099247962236404, -0.042698752135038376, -0.0303926020860672, -0.023205257952213287, 0.04233461618423462, 0.012759821489453316, -0.02133788913488388, 0.031065313145518303, 0.019533388316631317, -0.04186216741800308, 0.01605921983718872, -0.04114331677556038, -0.00631619431078434, -0.04704770818352699, -0.015883084386587143, -0.02820361778140068, -0.06250214576721191, -0.1268557757139206, 0.031064508482813835, -0.00975662562996149, 0.024826306849718094, 0.05134162679314613, -0.015979893505573273, -0.06289597600698471, 0.09889189153909683, -0.0002708239189814776, 0.01884823478758335, -0.07903769612312317, -0.04715842008590698, -0.02861316129565239, 0.005306566599756479, 0.005951653700321913, -0.05013812705874443, 0.05088012292981148, 0.07155103236436844, -0.08944295346736908, -0.03108219802379608, -0.04968256875872612, 0.058430179953575134, 0.07274868339300156, 0.02403322234749794, 0.026085836812853813, -0.014496497809886932, -0.013785146176815033, 0.06317555159330368, 0.01186371874064207, 0.0030777824576944113, 0.0649413987994194, 0.005535986740142107, -0.003071463666856289, -0.038874804973602295, -0.008179524913430214, -0.0014101702254265547, 0.03054128773510456, 0.05677580088376999, -0.05898767337203026, 5.351456840028077e-32, -0.015018217265605927, 0.06510082632303238, -0.021378356963396072, -0.034420911222696304, -0.029360374435782433, 0.09467069059610367, -0.035406067967414856, -0.041826535016298294, 0.03211306035518646, -0.05520344898104668, 0.0016891525592654943, -0.05337154492735863, 0.022355882450938225, -0.003478041384369135, -0.04318343475461006, -0.04658179357647896, -0.02081306092441082, -0.009487387724220753, 0.04805457592010498, -0.038722649216651917, 0.01099520642310381, 0.0340229868888855, 0.015572205185890198, 0.11214664578437805, 0.11340078711509705, 0.03330213576555252, 0.014533703215420246, 0.036805469542741776, 0.005227277521044016, 0.12476581335067749, -0.019117280840873718, 0.062464576214551926, 0.07539138197898865, -0.09318281710147858, 0.05917327105998993, 0.03275423124432564, 0.057845521718263626, 0.02131677232682705, 0.044575586915016174, 0.005628091283142567, -0.012712553143501282, -0.06620318442583084, -0.008943500928580761, -0.009347391314804554, -0.033743154257535934, -0.013123832643032074, 0.04315294325351715, -0.015495850704610348, -0.07268623262643814, 0.009660146199166775, 0.010482661426067352, -0.0029331317637115717, -0.021734237670898438, -0.017067870125174522, 0.0020815925672650337, -0.03438621759414673, 0.008275924250483513, 0.0013178900117054582, -0.04716426134109497, -0.0753057450056076, -0.003313707886263728, -0.03248395770788193, -0.05392751470208168, -0.022781938314437866]))\n"
     ]
    }
   ],
   "source": [
    "with connection.cursor() as cursor:\n",
    "    # Define the query to select all rows from a table\n",
    "    query = f\"SELECT * FROM {table_name}\"\n",
    "\n",
    "    # Execute the query\n",
    "    cursor.execute(query)\n",
    "\n",
    "    # Fetch all rows\n",
    "    rows = cursor.fetchall()\n",
    "\n",
    "    # Print the rows\n",
    "    for row in rows[:5]:\n",
    "        print(row)"
   ]
  },
  {
   "cell_type": "markdown",
   "id": "e9dd55fe-8633-42df-a995-06f08a027d4a",
   "metadata": {},
   "source": [
    "# Vector retrieval and Large Language Model generation\n",
    "## 1) Vectorize the \"question\""
   ]
  },
  {
   "cell_type": "code",
   "execution_count": 35,
   "id": "f5c7c50f-abb3-40ae-a936-66fa94f4079a",
   "metadata": {},
   "outputs": [],
   "source": [
    "topK = 3\n",
    "\n",
    "sql = f\"\"\"select payload, vector_distance(vector, :vector, COSINE) as score\n",
    "from {table_name}\n",
    "order by score\n",
    "fetch approx first {topK} rows only\"\"\""
   ]
  },
  {
   "cell_type": "code",
   "execution_count": 36,
   "id": "1cef48e0-3767-47bf-ad05-9d5754191df2",
   "metadata": {},
   "outputs": [],
   "source": [
    "question = 'Make a sentence of a description of the shooter.'"
   ]
  },
  {
   "cell_type": "code",
   "execution_count": 37,
   "id": "57441951-ac8e-4890-b78f-326c2b25c4d9",
   "metadata": {
    "scrolled": true
   },
   "outputs": [],
   "source": [
    "with connection.cursor() as cursor:\n",
    "    embedding = list(encoder.encode(question))\n",
    "    vector = array.array(\"f\", embedding)\n",
    "    \n",
    "    results  = []\n",
    "    \n",
    "    for (info, score, ) in cursor.execute(sql, vector=vector):\n",
    "        text_content = info.read()\n",
    "        results.append((score, json.loads(text_content)))"
   ]
  },
  {
   "cell_type": "code",
   "execution_count": 38,
   "id": "72e80046-1db2-4b33-8a9a-cfd910c1838e",
   "metadata": {},
   "outputs": [
    {
     "name": "stdout",
     "output_type": "stream",
     "text": [
      "[(0.4035865621903405,\n",
      "  {'text': 'shooter_desc (4) | These are descriptions of a shooter or '\n",
      "           'shooters.\\n'\n",
      "           'Blue Cap\\n'\n",
      "           'wearing sunglasses\\n'\n",
      "           \"It's a guy.\\n\"\n",
      "           'Wearing black jacket\\n'\n",
      "           'has a gun',\n",
      "   'path': 'shooter_desc (4)'})]\n"
     ]
    }
   ],
   "source": [
    "import pprint\n",
    "pprint.pp(results)"
   ]
  },
  {
   "cell_type": "markdown",
   "id": "9bf86323-557e-493f-b1cc-c5cb67a96f05",
   "metadata": {},
   "source": [
    "## 2) Create the LLM prompt"
   ]
  },
  {
   "cell_type": "code",
   "execution_count": 39,
   "id": "9b75c5d4-cbbd-4323-a104-b4dbc6f69935",
   "metadata": {},
   "outputs": [],
   "source": [
    "from transformers import LlamaTokenizerFast\n",
    "import sys\n",
    "\n",
    "tokenizer = LlamaTokenizerFast.from_pretrained(\"hf-internal-testing/llama-tokenizer\")\n",
    "tokenizer.model_max_length = sys.maxsize\n",
    "\n",
    "def truncate_string(string, max_tokens):\n",
    "    # Tokenize the text and count the tokens\n",
    "    tokens = tokenizer.encode(string, add_special_tokens=True) \n",
    "    # Truncate the tokens to a maximum length\n",
    "    truncated_tokens = tokens[:max_tokens]\n",
    "    # transform the tokens back to text\n",
    "    truncated_text = tokenizer.decode(truncated_tokens)\n",
    "    return truncated_text"
   ]
  },
  {
   "cell_type": "code",
   "execution_count": 40,
   "id": "19d6052f-61f5-4951-af04-a8121a6afe27",
   "metadata": {},
   "outputs": [],
   "source": [
    "# transform docs into a string array using the \"paylod\" key\n",
    "docs_as_one_string = \"\\n=========\\n\".join([doc[\"text\"] for doc in docs])\n",
    "docs_truncated = truncate_string(docs_as_one_string, 1000)"
   ]
  },
  {
   "cell_type": "code",
   "execution_count": 41,
   "id": "d7396be9-d1d0-4c2f-9f64-15ac659fddac",
   "metadata": {},
   "outputs": [],
   "source": [
    "prompt = f\"\"\"\\\n",
    "    <s>[INST] <<SYS>>\n",
    "    You are a helpful assistant named Oracle chatbot. \n",
    "    USE ONLY the sources below and ABSOLUTELY IGNORE any previous knowledge.\n",
    "    Use Markdown if appropriate.\n",
    "    Assume the customer is highly technical.\n",
    "    <</SYS>> [/INST]\n",
    "\n",
    "    [INST]\n",
    "    Respond to PRECISELY to this question: \"{question}.\",  USING ONLY the following information and IGNORING ANY PREVIOUS KNOWLEDGE.\n",
    "    Include code snippets and commands where necessary.\n",
    "    NEVER mention the sources, always respond as if you have that knowledge yourself. Do NOT provide warnings or disclaimers.\n",
    "    =====\n",
    "    Sources: {docs_truncated}\n",
    "    =====\n",
    "    Answer (Three paragraphs, maximum 200 words each, 90% spartan):\n",
    "    [/INST]\n",
    "    \"\"\""
   ]
  },
  {
   "cell_type": "markdown",
   "id": "bdc13038-040e-4672-a65b-7bb8743f29fd",
   "metadata": {},
   "source": [
    "## 3) Call the Generative AI Service LLM"
   ]
  },
  {
   "cell_type": "code",
   "execution_count": 42,
   "id": "e5cb1ea7-d622-480f-b995-e7ab029af3de",
   "metadata": {},
   "outputs": [],
   "source": [
    "import oci\n",
    "\n",
    "compartment_id = 'ocid1.tenancy.oc1..aaaaaaaaj4ccqe763dizkrcdbs5x7ufvmmojd24mb6utvkymyo4xwxyv3gfa'\n",
    "CONFIG_PROFILE = \"DEFAULT\"\n",
    "config = oci.config.from_file('config', CONFIG_PROFILE)\n",
    "\n",
    "# Service endpoint\n",
    "endpoint = \"https://inference.generativeai.us-chicago-1.oci.oraclecloud.com\"\n",
    "\n",
    "# GenAI client\n",
    "generative_ai_inference_client = oci.generative_ai_inference.GenerativeAiInferenceClient(config=config, service_endpoint=endpoint, retry_strategy=oci.retry.NoneRetryStrategy(), timeout=(10,240))"
   ]
  },
  {
   "cell_type": "code",
   "execution_count": 43,
   "id": "05b74211-9c7d-42ca-9447-3942b9f89616",
   "metadata": {},
   "outputs": [
    {
     "name": "stdout",
     "output_type": "stream",
     "text": [
      "Based on the information provided, here is a possible description of the shooter:\n"
     ]
    }
   ],
   "source": [
    "generate_text_request = oci.generative_ai_inference.models.LlamaLlmInferenceRequest()\n",
    "\n",
    "generate_text_request.prompt = prompt\n",
    "generate_text_request.is_stream = False #SDK doesn't support streaming responses, feature is under development\n",
    "generate_text_request.maxx_tokens = 1000\n",
    "generate_text_request.temperature = 0.3\n",
    "generate_text_request.top_p = 0.7\n",
    "generate_text_request.frequency_penalty = 0.0\n",
    "\n",
    "generate_text_detail = oci.generative_ai_inference.models.GenerateTextDetails()\n",
    "generate_text_detail.serving_mode = oci.generative_ai_inference.models.OnDemandServingMode(model_id=\"meta.llama-2-70b-chat\")\n",
    "generate_text_detail.compartment_id = compartment_id\n",
    "generate_text_detail.inference_request = generate_text_request\n",
    "\n",
    "generate_text_response = generative_ai_inference_client.generate_text(generate_text_detail)\n",
    "response = generate_text_response.data.inference_response.choices[0].text\n",
    "\n",
    "print(response.strip())"
   ]
  }
 ],
 "metadata": {
  "kernelspec": {
   "display_name": "Python 3 (ipykernel)",
   "language": "python",
   "name": "python3"
  },
  "language_info": {
   "codemirror_mode": {
    "name": "ipython",
    "version": 3
   },
   "file_extension": ".py",
   "mimetype": "text/x-python",
   "name": "python",
   "nbconvert_exporter": "python",
   "pygments_lexer": "ipython3",
   "version": "3.12.4"
  }
 },
 "nbformat": 4,
 "nbformat_minor": 5
}
